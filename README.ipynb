{
 "cells": [
  {
   "cell_type": "markdown",
   "metadata": {},
   "source": [
    "# olist-dataset-analysis"
   ]
  },
  {
   "cell_type": "markdown",
   "metadata": {},
   "source": [
    "Olist data source: https://www.kaggle.com/datasets/olistbr/brazilian-ecommerce/  \n",
    "Cities: https://github.com/mapaslivres/municipios-br/blob/main/tabelas/municipios.csv"
   ]
  }
 ],
 "metadata": {
  "language_info": {
   "name": "python"
  }
 },
 "nbformat": 4,
 "nbformat_minor": 2
}
